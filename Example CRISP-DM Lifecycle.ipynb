{
 "cells": [
  {
   "cell_type": "markdown",
   "metadata": {},
   "source": [
    "# My Totally Fake Analysis"
   ]
  },
  {
   "cell_type": "markdown",
   "metadata": {},
   "source": [
    "## Business Understanding"
   ]
  },
  {
   "cell_type": "markdown",
   "metadata": {},
   "source": [
    "Our team has been asked to determine whether the recent weather in Des Moines is normal or an outlier.  They'd also like to know our prediction of the weather in the coming months so they can decide if we need to all move somewhere warmer."
   ]
  },
  {
   "cell_type": "markdown",
   "metadata": {},
   "source": [
    "Discussions with the team have boiled down to the following questions that we need to answer:\n",
    "* Are the temperatures over the last 10 days normal or outliers?\n",
    "* If these temperatures are outliers, what should the temperatures be?\n",
    "* Where should we move to enjoy a nicer average temperature?"
   ]
  },
  {
   "cell_type": "markdown",
   "metadata": {},
   "source": [
    "## Data Understanding"
   ]
  },
  {
   "cell_type": "markdown",
   "metadata": {},
   "source": [
    "We've been provided with average daily temperatures from December 1 - Feb 12 for the last 3 years.  Using this information, we need to determine if the date range of 2/5/21-2/12/21 is within normal ranges or an outlier.  The dataset provides contains 6 columns, 2 for each range of dates across the years.  Temperatures are in fahrenheit."
   ]
  },
  {
   "cell_type": "markdown",
   "metadata": {},
   "source": [
    "## Data Preparation"
   ]
  },
  {
   "cell_type": "markdown",
   "metadata": {},
   "source": [
    "We'll first bring in our dataset to get it formatted for visualization."
   ]
  },
  {
   "cell_type": "code",
   "execution_count": null,
   "metadata": {},
   "outputs": [],
   "source": [
    "import pandas as pd\n",
    "weather_data = pd.read_csv('weather_dataset.csv')\n",
    "weather_data.head()"
   ]
  },
  {
   "cell_type": "markdown",
   "metadata": {},
   "source": [
    "Let's rename some columns to make this easier to work with"
   ]
  },
  {
   "cell_type": "code",
   "execution_count": null,
   "metadata": {},
   "outputs": [],
   "source": [
    "weather_data.columns = ['Date 2018-19','2018-19 Averages','Date 2019-20','2019-20 Averages','Date 2020-21','2020-21 Averages']\n",
    "weather_data.head()"
   ]
  },
  {
   "cell_type": "markdown",
   "metadata": {},
   "source": [
    "## Modeling"
   ]
  },
  {
   "cell_type": "markdown",
   "metadata": {},
   "source": [
    " Now with our data renamed, let's visualize"
   ]
  },
  {
   "cell_type": "code",
   "execution_count": null,
   "metadata": {},
   "outputs": [],
   "source": [
    "import matplotlib.pyplot as plt\n",
    "import matplotlib.ticker as ticker\n",
    "with plt.rc_context(): # This lets us change the size of just this visual without affecting the rest of the notebook\n",
    "    plt.rc('figure',figsize=(28,10))\n",
    "    plt.figure()\n",
    "    plt.plot(weather_data['Date 2018-19'], weather_data['2018-19 Averages'])\n",
    "    plt.plot(weather_data['Date 2018-19'], weather_data['2019-20 Averages'])\n",
    "    plt.plot(weather_data['Date 2018-19'], weather_data['2020-21 Averages'])\n",
    "    ax = plt.axes()\n",
    "    ax.xaxis.set_major_locator(ticker.MaxNLocator(20))\n",
    "    ax.tick_params(labelsize=20,rotation=45)\n",
    "    ax.legend(['2018-19','2019-20','2020-21'],fontsize=20)\n",
    "    plt.show"
   ]
  },
  {
   "cell_type": "markdown",
   "metadata": {},
   "source": [
    "### Note: need to include analysis like stdev, rolling average, year over year, etc."
   ]
  },
  {
   "cell_type": "markdown",
   "metadata": {},
   "source": [
    "## Evaluation"
   ]
  },
  {
   "cell_type": "markdown",
   "metadata": {},
   "source": [
    "Once the other modeling is complete, further evaluation can be completed"
   ]
  },
  {
   "cell_type": "markdown",
   "metadata": {},
   "source": [
    "## Deployment"
   ]
  },
  {
   "cell_type": "markdown",
   "metadata": {},
   "source": [
    "We'll include deployment data for sharing results here once they are ready"
   ]
  },
  {
   "cell_type": "markdown",
   "metadata": {},
   "source": [
    "## Notes"
   ]
  },
  {
   "cell_type": "markdown",
   "metadata": {},
   "source": [
    "This section will contain notes to self"
   ]
  }
 ],
 "metadata": {
  "kernelspec": {
   "display_name": "Python 3",
   "language": "python",
   "name": "python3"
  },
  "language_info": {
   "codemirror_mode": {
    "name": "ipython",
    "version": 3
   },
   "file_extension": ".py",
   "mimetype": "text/x-python",
   "name": "python",
   "nbconvert_exporter": "python",
   "pygments_lexer": "ipython3",
   "version": "3.7.9"
  }
 },
 "nbformat": 4,
 "nbformat_minor": 4
}
