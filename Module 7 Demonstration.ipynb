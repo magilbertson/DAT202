{
 "cells": [
  {
   "cell_type": "markdown",
   "metadata": {
    "slideshow": {
     "slide_type": "slide"
    }
   },
   "source": [
    "# Module 7: Evaluating Results, Stats in Python"
   ]
  },
  {
   "cell_type": "markdown",
   "metadata": {
    "slideshow": {
     "slide_type": "slide"
    }
   },
   "source": [
    "## Topic 1: Types of Data Analytics"
   ]
  },
  {
   "cell_type": "markdown",
   "metadata": {
    "slideshow": {
     "slide_type": "subslide"
    }
   },
   "source": [
    "### Descriptive Analytics"
   ]
  },
  {
   "cell_type": "markdown",
   "metadata": {
    "slideshow": {
     "slide_type": "fragment"
    }
   },
   "source": [
    "#### Descriptive analytics is all about giving information about what happened in an easily consumable fashion . It is essentially reporting/dashboarding"
   ]
  },
  {
   "cell_type": "markdown",
   "metadata": {
    "slideshow": {
     "slide_type": "subslide"
    }
   },
   "source": [
    "### Diagnostic Analytics"
   ]
  },
  {
   "cell_type": "markdown",
   "metadata": {
    "slideshow": {
     "slide_type": "fragment"
    }
   },
   "source": [
    "#### Diagnostic analytics is focused on determining and reporting why things likely happened"
   ]
  },
  {
   "cell_type": "markdown",
   "metadata": {
    "slideshow": {
     "slide_type": "subslide"
    }
   },
   "source": [
    "### Predictive Analytics"
   ]
  },
  {
   "cell_type": "markdown",
   "metadata": {
    "slideshow": {
     "slide_type": "fragment"
    }
   },
   "source": [
    "#### Predictive analytics attempts to predict what will happen in the future based on available information"
   ]
  },
  {
   "cell_type": "markdown",
   "metadata": {
    "slideshow": {
     "slide_type": "subslide"
    }
   },
   "source": [
    "### Prescriptive Analytics"
   ]
  },
  {
   "cell_type": "markdown",
   "metadata": {
    "slideshow": {
     "slide_type": "fragment"
    }
   },
   "source": [
    "#### Prescriptive analytics it about making recommendations about what should be done based on available information"
   ]
  },
  {
   "cell_type": "markdown",
   "metadata": {
    "slideshow": {
     "slide_type": "slide"
    }
   },
   "source": [
    "## Topic 2: Statistical Significance"
   ]
  },
  {
   "cell_type": "markdown",
   "metadata": {
    "slideshow": {
     "slide_type": "fragment"
    }
   },
   "source": [
    "### We have to remember as we do our analyses that differences in our results don't necessarily mean we discovered something of interest.  We need to ensure these differences are statistically significant"
   ]
  },
  {
   "cell_type": "markdown",
   "metadata": {
    "slideshow": {
     "slide_type": "subslide"
    }
   },
   "source": [
    "### Terminology of statistical significance\n",
    "* Sampling Error\n",
    "    * This is an estimation of the difference between the entire population and the random subset used as a sample\n",
    "    * Highly varied populations will increase sampling error\n",
    "    * Increasing sample size will generally reduce sampling error"
   ]
  },
  {
   "cell_type": "markdown",
   "metadata": {
    "slideshow": {
     "slide_type": "subslide"
    }
   },
   "source": [
    "* Null Hypothesis\n",
    "    * This is a statement that you are trying to disprove with your analysis\n",
    "* Alternative Hypothesis\n",
    "    * This is a statement that you are trying to prove with your analysis"
   ]
  },
  {
   "cell_type": "markdown",
   "metadata": {
    "slideshow": {
     "slide_type": "subslide"
    }
   },
   "source": [
    "* p-value\n",
    "    * Prior to doing a test or analysis, p-value (alpha) minimum bar is assigned.  A lower p-value means there is less chance that the result is due to random chance.  After analysis/test, the actual p-value is calculated. If p-value actual is less than alpha assigned, the null hypothesis is rejected meaning the results are significant"
   ]
  },
  {
   "cell_type": "markdown",
   "metadata": {
    "slideshow": {
     "slide_type": "subslide"
    }
   },
   "source": [
    "* Alpha (Type 1 Error)\n",
    "    * The probability of incorrectly rejecting the null hypothesis\n",
    "* Beta (Type 2 Error)\n",
    "    * The probability of incorrectly accepting the null hypothesis"
   ]
  },
  {
   "cell_type": "markdown",
   "metadata": {
    "slideshow": {
     "slide_type": "subslide"
    }
   },
   "source": [
    "* power\n",
    "    * 1 - Beta\n",
    "* z-score\n",
    "    * The z-score is the number of standard deviations away from mean"
   ]
  },
  {
   "cell_type": "markdown",
   "metadata": {
    "slideshow": {
     "slide_type": "subslide"
    }
   },
   "source": [
    "### Let's create some distributions and try some stats"
   ]
  },
  {
   "cell_type": "markdown",
   "metadata": {
    "slideshow": {
     "slide_type": "subslide"
    }
   },
   "source": [
    "### Please note that there are a ton of different statistical analysis options.  This is just a sampling to show how to do some of this in Python."
   ]
  },
  {
   "cell_type": "markdown",
   "metadata": {
    "slideshow": {
     "slide_type": "subslide"
    }
   },
   "source": [
    "### We'll first create a couple of random normal distributions to work with"
   ]
  },
  {
   "cell_type": "code",
   "execution_count": null,
   "metadata": {
    "slideshow": {
     "slide_type": "subslide"
    }
   },
   "outputs": [],
   "source": [
    "import numpy as np\n",
    "np.random.seed(seed=1)\n",
    "rand_norm_1 = np.random.normal(size=1000)# - 1\n",
    "rand_norm_2 = np.random.normal(size=1000)# + 1\n",
    "#print(rand_norm_1)\n",
    "print(type(rand_norm_1))"
   ]
  },
  {
   "cell_type": "code",
   "execution_count": null,
   "metadata": {
    "slideshow": {
     "slide_type": "subslide"
    }
   },
   "outputs": [],
   "source": [
    "import plotly.figure_factory as ff\n",
    "two_arrays = [rand_norm_1,rand_norm_2]\n",
    "two_arrays_labels = [\"rand_norm_1\",\"rand_norm_2\"]\n",
    "fig = ff.create_distplot(two_arrays, two_arrays_labels, bin_size=.1)\n",
    "fig.show()"
   ]
  },
  {
   "cell_type": "markdown",
   "metadata": {
    "slideshow": {
     "slide_type": "subslide"
    }
   },
   "source": [
    "### Let's do some tests with these two datasets.  First, let's check to see if they belong in the same distribution using T-Test (two-tailed test)"
   ]
  },
  {
   "cell_type": "code",
   "execution_count": null,
   "metadata": {
    "slideshow": {
     "slide_type": "subslide"
    }
   },
   "outputs": [],
   "source": [
    "from scipy.stats import ttest_ind, ttest_rel\n",
    "res = ttest_ind(rand_norm_1, rand_norm_2) # T-Test for two independent samples of values\n",
    "res2 = ttest_rel(rand_norm_1, rand_norm_2) # T-Test for two related samples of values \n",
    "print(res, res2, sep='\\n')"
   ]
  },
  {
   "cell_type": "markdown",
   "metadata": {
    "slideshow": {
     "slide_type": "subslide"
    }
   },
   "source": [
    "### The high p-value here for Ttest_ind tells us these two distributions are likely the same distribution or at least very similar\n",
    "### The high p-value for Ttest_rel tells us the means of these two distributions are very similar/related"
   ]
  },
  {
   "cell_type": "markdown",
   "metadata": {
    "slideshow": {
     "slide_type": "subslide"
    }
   },
   "source": [
    "### Now let's just look at one of our distributions to see if it is normally distributed"
   ]
  },
  {
   "cell_type": "code",
   "execution_count": null,
   "metadata": {
    "slideshow": {
     "slide_type": "subslide"
    }
   },
   "outputs": [],
   "source": [
    "from scipy.stats import kstest\n",
    "\n",
    "res3 = kstest(rand_norm_1, 'norm')\n",
    "\n",
    "print(res)"
   ]
  },
  {
   "cell_type": "markdown",
   "metadata": {
    "slideshow": {
     "slide_type": "fragment"
    }
   },
   "source": [
    "### Again, the high p-value tells us this distribution is likely normal"
   ]
  },
  {
   "cell_type": "markdown",
   "metadata": {
    "slideshow": {
     "slide_type": "subslide"
    }
   },
   "source": [
    "### We can also quickly see some stats about our distribution"
   ]
  },
  {
   "cell_type": "code",
   "execution_count": null,
   "metadata": {
    "slideshow": {
     "slide_type": "fragment"
    }
   },
   "outputs": [],
   "source": [
    "from scipy.stats import describe\n",
    "\n",
    "res4 = describe(rand_norm_1)\n",
    "print(res4)"
   ]
  },
  {
   "attachments": {
    "image.png": {
     "image/png": "[encoded data removed]"
    }
   },
   "cell_type": "markdown",
   "metadata": {
    "slideshow": {
     "slide_type": "subslide"
    }
   },
   "source": [
    "* Skewness is an indication of whether the data is skewed left (negative) or right (positive). Range -1 to 1\n",
    "* kurtosis is an indication of long tails in either direction. 0 is normal, -1 is light tailed, 1 heavy tailed\n",
    "![image.png](attachment:image.png)"
   ]
  },
  {
   "cell_type": "markdown",
   "metadata": {
    "slideshow": {
     "slide_type": "subslide"
    }
   },
   "source": [
    "### We can check to see how well our dataset matches a normal distribution"
   ]
  },
  {
   "cell_type": "code",
   "execution_count": null,
   "metadata": {
    "slideshow": {
     "slide_type": "subslide"
    }
   },
   "outputs": [],
   "source": [
    "from scipy.stats import normaltest \n",
    "normaltest(rand_norm_1) # uses D’Agostino’s K^2 Test\n",
    "# Statistic here is the squared z-score + the squared skewtest "
   ]
  },
  {
   "cell_type": "markdown",
   "metadata": {
    "slideshow": {
     "slide_type": "subslide"
    }
   },
   "source": [
    "### Remember that many of our machine learning models assume the underlying data is normally(gaussian) distributed so checking this ahead of running models is important."
   ]
  },
  {
   "cell_type": "markdown",
   "metadata": {
    "slideshow": {
     "slide_type": "subslide"
    }
   },
   "source": [
    "### Back to looking at both distributions to see how they compare"
   ]
  },
  {
   "cell_type": "markdown",
   "metadata": {
    "slideshow": {
     "slide_type": "subslide"
    }
   },
   "source": [
    "### Let's do Pearson's Correlation Coefficient to see if the two distributions have a linear relationship"
   ]
  },
  {
   "cell_type": "code",
   "execution_count": null,
   "metadata": {
    "slideshow": {
     "slide_type": "subslide"
    }
   },
   "outputs": [],
   "source": [
    "from scipy.stats import pearsonr\n",
    "res5 = pearsonr(rand_norm_1,rand_norm_2)\n",
    "print(res5)"
   ]
  },
  {
   "cell_type": "markdown",
   "metadata": {
    "slideshow": {
     "slide_type": "subslide"
    }
   },
   "source": [
    "### The tuple returned is the pearson correlation coefficient and the 2 tailed p-value.  A low p-value indicates that the chances of a random set of data having this level or correlation is low\n",
    "### A high pearson correlation coefficient (either positive or negative) indicates there is a high level or correlation or co-variance between the datasets.  \n",
    "### This is important because many models assume (especially Naive Bayes) that the data features are independent."
   ]
  },
  {
   "cell_type": "markdown",
   "metadata": {
    "slideshow": {
     "slide_type": "fragment"
    }
   },
   "source": [
    "### We should expect this negative result because two normal distributions wouldn't be linear \n",
    "### Let's make up some other data to get a linear relationship to show"
   ]
  },
  {
   "cell_type": "code",
   "execution_count": null,
   "metadata": {
    "slideshow": {
     "slide_type": "subslide"
    }
   },
   "outputs": [],
   "source": [
    "from scipy.stats import pearsonr\n",
    "a = np.array([0,1,2,3,4,5,6,7])\n",
    "b = np.array([0,-1,-2,-3,-4,-5,-6,-8])\n",
    "res5a = pearsonr(a,b)\n",
    "print(res5a)"
   ]
  },
  {
   "cell_type": "markdown",
   "metadata": {
    "slideshow": {
     "slide_type": "subslide"
    }
   },
   "source": [
    "### We can also check for a non-linear relationship using Spearman correlation"
   ]
  },
  {
   "cell_type": "code",
   "execution_count": null,
   "metadata": {
    "slideshow": {
     "slide_type": "subslide"
    }
   },
   "outputs": [],
   "source": [
    "from scipy.stats import spearmanr\n",
    "res6 = spearmanr(rand_norm_1,rand_norm_2)\n",
    "print(res6)"
   ]
  },
  {
   "cell_type": "markdown",
   "metadata": {
    "slideshow": {
     "slide_type": "fragment"
    }
   },
   "source": [
    "### Again, we should expect a negative result here because our normal datasets won't have a non-linear relationship.  Let's make up another pair of datasets that will have a non-linear relationship"
   ]
  },
  {
   "cell_type": "code",
   "execution_count": null,
   "metadata": {},
   "outputs": [],
   "source": [
    "from scipy.stats import spearmanr\n",
    "from numpy import random\n",
    "a = random.rand(1000) * 20\n",
    "b = a + (random.rand(1000) * 10)\n",
    "res6a = spearmanr(a,b)\n",
    "print(res6a)\n",
    "pyplot.scatter(a, b)\n",
    "pyplot.show()"
   ]
  },
  {
   "cell_type": "markdown",
   "metadata": {
    "slideshow": {
     "slide_type": "subslide"
    }
   },
   "source": [
    "### If our data is not passing Guassian/Normal distribution tests, there are situations where we can force our data to become normal"
   ]
  },
  {
   "cell_type": "markdown",
   "metadata": {
    "slideshow": {
     "slide_type": "subslide"
    }
   },
   "source": [
    "### Take the below distribution of 20 data points"
   ]
  },
  {
   "cell_type": "code",
   "execution_count": null,
   "metadata": {
    "slideshow": {
     "slide_type": "subslide"
    }
   },
   "outputs": [],
   "source": [
    "from matplotlib import pyplot\n",
    "\n",
    "not_normal_data = 50 * np.random.normal(size=20)+100 #adjust size\n",
    "pyplot.hist(not_normal_data)\n",
    "pyplot.show()"
   ]
  },
  {
   "cell_type": "code",
   "execution_count": null,
   "metadata": {
    "slideshow": {
     "slide_type": "subslide"
    }
   },
   "outputs": [],
   "source": [
    "print(\"kstest - \",kstest(not_normal_data, 'norm'))\n",
    "print(\"normal test - \", normaltest(not_normal_data)) # kstest doesn't think it's normal, normaltest does"
   ]
  },
  {
   "cell_type": "markdown",
   "metadata": {
    "slideshow": {
     "slide_type": "subslide"
    }
   },
   "source": [
    "### The easiest way to ensure we have a normal distribution, if that is what is expected, is to add more data points (assuming more data points are available)"
   ]
  },
  {
   "cell_type": "markdown",
   "metadata": {
    "slideshow": {
     "slide_type": "subslide"
    }
   },
   "source": [
    "### Another way we can improve our normal distribution test results is to increase resolution.  Take this example where we only have integer level data\n"
   ]
  },
  {
   "cell_type": "code",
   "execution_count": null,
   "metadata": {
    "slideshow": {
     "slide_type": "subslide"
    }
   },
   "outputs": [],
   "source": [
    "low_res_data_dist = np.random.normal(size=200)\n",
    "low_res_data_dist = low_res_data_dist.round(0) #adjust number of decimal points\n",
    "pyplot.hist(low_res_data_dist)\n",
    "pyplot.show()\n",
    "print(\"kstest - \",kstest(low_res_data_dist, 'norm'))\n",
    "print(\"normal test - \", normaltest(low_res_data_dist))"
   ]
  },
  {
   "cell_type": "markdown",
   "metadata": {
    "slideshow": {
     "slide_type": "subslide"
    }
   },
   "source": [
    "### Sometimes the way to correct for a normal distribution is to remove extreme values.  These extreme values may be the result of data collection issues.  We need to be cautious about this because extreme values may also be indication of something interesting in the data."
   ]
  },
  {
   "cell_type": "code",
   "execution_count": null,
   "metadata": {
    "slideshow": {
     "slide_type": "subslide"
    }
   },
   "outputs": [],
   "source": [
    "from numpy import zeros\n",
    "data_dist_with_extremes = 5 * np.random.normal(size=100) + 10 # mean around 10 with 5 standard deviation\n",
    "data_dist_with_extremes = np.append(data_dist_with_extremes, zeros(20)) #add a bunch of zeros\n",
    "pyplot.hist(data_dist_with_extremes, bins = 20)\n",
    "pyplot.show()\n",
    "print(\"kstest - \",kstest(data_dist_with_extremes, 'norm'))\n",
    "print(\"normal test - \", normaltest(data_dist_with_extremes))"
   ]
  },
  {
   "cell_type": "markdown",
   "metadata": {
    "slideshow": {
     "slide_type": "subslide"
    }
   },
   "source": [
    "### It may also be that the dataset requires a power transform to become expose the normal shape. \n",
    "### This can be simplified using a scipy function called boxcox()"
   ]
  },
  {
   "cell_type": "markdown",
   "metadata": {
    "slideshow": {
     "slide_type": "subslide"
    }
   },
   "source": [
    "### First I'm going to create a sample dataset that has an exponential distribution"
   ]
  },
  {
   "cell_type": "code",
   "execution_count": null,
   "metadata": {
    "slideshow": {
     "slide_type": "subslide"
    }
   },
   "outputs": [],
   "source": [
    "from numpy import exp\n",
    "data_expon = 5* np.random.normal(size=100) + 50\n",
    "data_expon = exp(data_expon)\n",
    "pyplot.hist(data_expon)\n",
    "pyplot.show()\n",
    "print(\"kstest - \",kstest(data_expon, 'norm'))\n",
    "print(\"normal test - \", normaltest(data_expon))"
   ]
  },
  {
   "cell_type": "code",
   "execution_count": null,
   "metadata": {
    "slideshow": {
     "slide_type": "subslide"
    }
   },
   "outputs": [],
   "source": [
    "# Note that this only works if the distribution is positive and 1 dimensional\n",
    "from scipy.stats import boxcox\n",
    "result, tran_lambda = boxcox(data_expon)\n",
    "print(tran_lambda)\n",
    "pyplot.hist(result)\n",
    "pyplot.show()\n",
    "print(\"kstest - \",kstest(result, 'norm'))\n",
    "print(\"normal test - \", normaltest(result))"
   ]
  },
  {
   "cell_type": "markdown",
   "metadata": {
    "slideshow": {
     "slide_type": "subslide"
    }
   },
   "source": [
    "### These are the lambda values for the different types of transformations:\n",
    "* lambda = -1. is a reciprocal transform.\n",
    "* lambda = -0.5 is a reciprocal square root transform.\n",
    "* lambda = 0.0 is a log transform.\n",
    "* lambda = 0.5 is a square root transform.\n",
    "* lambda = 1.0 is no transform."
   ]
  },
  {
   "cell_type": "markdown",
   "metadata": {
    "slideshow": {
     "slide_type": "slide"
    }
   },
   "source": [
    "## Topic 3: Reprocibility/Repeatability in Data Science"
   ]
  },
  {
   "cell_type": "markdown",
   "metadata": {
    "slideshow": {
     "slide_type": "fragment"
    }
   },
   "source": [
    "### This is an important and, at times, challenging topic in data science.  If you come up with a really interesting result but someone else runs through your code or methods and can't repeat your result, it will ultimately be difficult to prove the results are real or of value"
   ]
  },
  {
   "cell_type": "markdown",
   "metadata": {
    "slideshow": {
     "slide_type": "subslide"
    }
   },
   "source": [
    "### So, how do we ensure what we are creating can be reproduced?"
   ]
  },
  {
   "cell_type": "markdown",
   "metadata": {
    "slideshow": {
     "slide_type": "subslide"
    }
   },
   "source": [
    "### There are several ways we can control the environment to ensure consistency\n",
    "* Recording all of the tools, libraries, and library versions used when creating the project\n",
    "    * Different versions of external libraries can vary enough to skew results\n",
    "* Build self-contained, consistent environments for data science projects.\n",
    "    * This includes all of the datasets used, because we can't trust that data outside of our control won't change"
   ]
  },
  {
   "cell_type": "markdown",
   "metadata": {
    "slideshow": {
     "slide_type": "subslide"
    }
   },
   "source": [
    "* Develop and use a consistent, easy to understand file structure\n",
    "    * This makes it easy to understand all of the data being used in the project\n",
    "* Writing tests for your code\n",
    "    * Running generic/known datasets through your project can help ensure that it is doing what is expected\n",
    "* Using version control\n",
    "    "
   ]
  },
  {
   "cell_type": "markdown",
   "metadata": {
    "slideshow": {
     "slide_type": "subslide"
    }
   },
   "source": [
    "### Lucky for us, some of this can be contained within our Jupyter Notebooks.  "
   ]
  },
  {
   "cell_type": "markdown",
   "metadata": {
    "slideshow": {
     "slide_type": "subslide"
    }
   },
   "source": [
    "### Watermark is a tool that can let us have a note of the versions of the libraries used in our projects"
   ]
  },
  {
   "cell_type": "code",
   "execution_count": null,
   "metadata": {
    "slideshow": {
     "slide_type": "subslide"
    }
   },
   "outputs": [],
   "source": [
    "pip install watermark"
   ]
  },
  {
   "cell_type": "code",
   "execution_count": null,
   "metadata": {
    "slideshow": {
     "slide_type": "subslide"
    }
   },
   "outputs": [],
   "source": [
    "%load_ext watermark"
   ]
  },
  {
   "cell_type": "code",
   "execution_count": null,
   "metadata": {
    "slideshow": {
     "slide_type": "subslide"
    }
   },
   "outputs": [],
   "source": [
    "%watermark -d -m -v -iv"
   ]
  },
  {
   "cell_type": "markdown",
   "metadata": {
    "slideshow": {
     "slide_type": "subslide"
    }
   },
   "source": [
    "### Virtual environments can allow all people attempting to recreate your work to have the same versions of all packages.  You'll see more about this in a few weeks in CIS289"
   ]
  },
  {
   "cell_type": "markdown",
   "metadata": {
    "slideshow": {
     "slide_type": "subslide"
    }
   },
   "source": [
    "### Tools like cookiecutter can allow you to generate a consistent project folder structure.  This is ideal for a large team of data scientists sharing project environements or a way for a single data scientist to keep themselves organized"
   ]
  },
  {
   "cell_type": "markdown",
   "metadata": {
    "slideshow": {
     "slide_type": "subslide"
    }
   },
   "source": [
    "### For version control, the, by far, most utilized product is github.  Github allows you to keep a history of your project as you develop it.  It also allows others to contribute to your project or pull copies from places in time.\n",
    "### One of the few things I dislike about Jupyter Notebooks is that it keeps showing checkpoints, as if it is keeping a history.  However, it only keeps a single checkpoint so rolling back isn't an option.  "
   ]
  }
 ],
 "metadata": {
  "celltoolbar": "Slideshow",
  "kernelspec": {
   "display_name": "Python 3",
   "language": "python",
   "name": "python3"
  },
  "language_info": {
   "codemirror_mode": {
    "name": "ipython",
    "version": 3
   },
   "file_extension": ".py",
   "mimetype": "text/x-python",
   "name": "python",
   "nbconvert_exporter": "python",
   "pygments_lexer": "ipython3",
   "version": "3.7.9"
  }
 },
 "nbformat": 4,
 "nbformat_minor": 4
}
